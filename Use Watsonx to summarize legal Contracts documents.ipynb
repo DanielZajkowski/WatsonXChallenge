{
 "cells": [
  {
   "cell_type": "markdown",
   "metadata": {
    "pycharm": {
     "name": "#%% md\n"
    }
   },
   "source": [
    "![image](https://raw.githubusercontent.com/IBM/watson-machine-learning-samples/master/cloud/notebooks/headers/watsonx-Prompt_Lab-Notebook.png)\n",
    "# Use Watsonx to summarize legal Contracts documents."
   ]
  },
  {
   "cell_type": "markdown",
   "metadata": {},
   "source": [
    "**Note:** Please note that for the watsonx challenge, please run these notebooks locally on your laptop/desktop and do not run it in IBM Cloud.  The instructions for running the notebook locally are provided in the readme.md file present in the zip file."
   ]
  },
  {
   "cell_type": "markdown",
   "metadata": {
    "pycharm": {
     "name": "#%% md\n"
    }
   },
   "source": [
    "This notebook contains the steps and code to demonstrate support of text summarization in Watsonx. It introduces commands for data retrieval and model testing.\n",
    "\n",
    "Some familiarity with Python is helpful. This notebook uses Python 3.10."
   ]
  },
  {
   "cell_type": "markdown",
   "metadata": {
    "pycharm": {
     "name": "#%% md\n"
    }
   },
   "source": [
    "<a id=\"setup\"></a>\n",
    "##  Set up the environment\n",
    "\n"
   ]
  },
  {
   "cell_type": "markdown",
   "metadata": {
    "pycharm": {
     "name": "#%% md\n"
    }
   },
   "source": [
    "### Install and import the dependecies"
   ]
  },
  {
   "cell_type": "code",
   "execution_count": 1,
   "metadata": {
    "pycharm": {
     "name": "#%%\n"
    }
   },
   "outputs": [
    {
     "name": "stdout",
     "output_type": "stream",
     "text": [
      "\n",
      "\u001b[1m[\u001b[0m\u001b[34;49mnotice\u001b[0m\u001b[1;39;49m]\u001b[0m\u001b[39;49m A new release of pip is available: \u001b[0m\u001b[31;49m23.2.1\u001b[0m\u001b[39;49m -> \u001b[0m\u001b[32;49m23.3\u001b[0m\n",
      "\u001b[1m[\u001b[0m\u001b[34;49mnotice\u001b[0m\u001b[1;39;49m]\u001b[0m\u001b[39;49m To update, run: \u001b[0m\u001b[32;49mpip install --upgrade pip\u001b[0m\n",
      "Requirement already satisfied: tqdm in /Users/danielzajkowski/.pyenv/versions/3.10.9/lib/python3.10/site-packages (from nltk->rouge_score) (4.65.0)\n",
      "\n",
      "\u001b[1m[\u001b[0m\u001b[34;49mnotice\u001b[0m\u001b[1;39;49m]\u001b[0m\u001b[39;49m A new release of pip is available: \u001b[0m\u001b[31;49m23.2.1\u001b[0m\u001b[39;49m -> \u001b[0m\u001b[32;49m23.3\u001b[0m\n",
      "\u001b[1m[\u001b[0m\u001b[34;49mnotice\u001b[0m\u001b[1;39;49m]\u001b[0m\u001b[39;49m To update, run: \u001b[0m\u001b[32;49mpip install --upgrade pip\u001b[0m\n",
      "Requirement already satisfied: tqdm in /Users/danielzajkowski/.pyenv/versions/3.10.9/lib/python3.10/site-packages (from nltk) (4.65.0)\n",
      "\n",
      "\u001b[1m[\u001b[0m\u001b[34;49mnotice\u001b[0m\u001b[1;39;49m]\u001b[0m\u001b[39;49m A new release of pip is available: \u001b[0m\u001b[31;49m23.2.1\u001b[0m\u001b[39;49m -> \u001b[0m\u001b[32;49m23.3\u001b[0m\n",
      "\u001b[1m[\u001b[0m\u001b[34;49mnotice\u001b[0m\u001b[1;39;49m]\u001b[0m\u001b[39;49m To update, run: \u001b[0m\u001b[32;49mpip install --upgrade pip\u001b[0m\n",
      "Requirement already satisfied: six>=1.10.0 in /Users/danielzajkowski/.pyenv/versions/3.10.9/lib/python3.10/site-packages (from lomond->ibm-watson-machine-learning==1.0.312) (1.16.0)\n"
     ]
    }
   ],
   "source": [
    "!pip install rouge_score | tail -n 1\n",
    "!pip install nltk | tail -n 1\n",
    "!pip install ibm-watson-machine-learning==1.0.312 | tail -n 1"
   ]
  },
  {
   "cell_type": "markdown",
   "metadata": {},
   "source": [
    "**Note:** Please restart the notebook kernel to pick up proper version of packages installed above."
   ]
  },
  {
   "cell_type": "code",
   "execution_count": 2,
   "metadata": {
    "pycharm": {
     "name": "#%%\n"
    }
   },
   "outputs": [],
   "source": [
    "import os, getpass, json\n",
    "from pandas import read_json"
   ]
  },
  {
   "cell_type": "markdown",
   "metadata": {
    "pycharm": {
     "name": "#%% md\n"
    }
   },
   "source": [
    "### Watsonx API connection\n",
    "This cell defines the credentials required to work with watsonx API for Foundation\n",
    "Model inferencing.\n",
    "\n",
    "**Action:** Provide the IBM Cloud user API key. For details, see\n",
    "[documentation](https://cloud.ibm.com/docs/account?topic=account-userapikey&interface=ui)."
   ]
  },
  {
   "cell_type": "code",
   "execution_count": 3,
   "metadata": {
    "pycharm": {
     "name": "#%%\n"
    }
   },
   "outputs": [],
   "source": [
    "credentials = {\n",
    "    \"url\": \"https://us-south.ml.cloud.ibm.com\",\n",
    "    \"apikey\": getpass.getpass(\"Please enter your WML api key (hit enter): \")\n",
    "}"
   ]
  },
  {
   "cell_type": "markdown",
   "metadata": {
    "pycharm": {
     "name": "#%% md\n"
    }
   },
   "source": [
    "### Defining the project id\n",
    "The API requires project id that provides the context for the call. We will obtain the id from the project in which this notebook runs. Otherwise, please provide the project id.\n",
    "\n",
    "**Hint**: You can find the `project_id` as follows. Open the prompt lab in watsonx.ai. At the very top of the UI, there will be `Projects / <project name> /`. Click on the `<project name>` link. Then get the `project_id` from Project's Manage tab (Project -> Manage -> General -> Details).\n"
   ]
  },
  {
   "cell_type": "code",
   "execution_count": 4,
   "metadata": {
    "pycharm": {
     "name": "#%%\n"
    }
   },
   "outputs": [],
   "source": [
    "try:\n",
    "    project_id = os.environ[\"PROJECT_ID\"]\n",
    "except KeyError:\n",
    "    project_id = input(\"Please enter your project_id (hit enter): \")"
   ]
  },
  {
   "cell_type": "markdown",
   "metadata": {
    "pycharm": {
     "name": "#%% md\n"
    }
   },
   "source": [
    "<a id=\"data\"></a>\n",
    "## Train/test data loading"
   ]
  },
  {
   "cell_type": "markdown",
   "metadata": {},
   "source": [
    "Load train and test datasets. At first, training dataset (`train_data`) should be used to work with the models to prepare and tune prompt. Then, test dataset (`test_data`) should be used to calculate the metrics score for selected model, defined prompts and parameters."
   ]
  },
  {
   "cell_type": "code",
   "execution_count": 5,
   "metadata": {
    "collapsed": false,
    "pycharm": {
     "name": "#%%\n"
    }
   },
   "outputs": [],
   "source": [
    "filename_test = 'data/Summarisation/test.json'\n",
    "filename_train = 'data/Summarisation/train.json'\n",
    "\n",
    "test_data = read_json(filename_test).T[[\"original_text\", \"reference_summary\"]]\n",
    "train_data = read_json(filename_train).T[[\"original_text\", \"reference_summary\"]]"
   ]
  },
  {
   "cell_type": "code",
   "execution_count": 6,
   "metadata": {},
   "outputs": [
    {
     "data": {
      "text/html": [
       "<div>\n",
       "<style scoped>\n",
       "    .dataframe tbody tr th:only-of-type {\n",
       "        vertical-align: middle;\n",
       "    }\n",
       "\n",
       "    .dataframe tbody tr th {\n",
       "        vertical-align: top;\n",
       "    }\n",
       "\n",
       "    .dataframe thead th {\n",
       "        text-align: right;\n",
       "    }\n",
       "</style>\n",
       "<table border=\"1\" class=\"dataframe\">\n",
       "  <thead>\n",
       "    <tr style=\"text-align: right;\">\n",
       "      <th></th>\n",
       "      <th>original_text</th>\n",
       "      <th>reference_summary</th>\n",
       "    </tr>\n",
       "  </thead>\n",
       "  <tbody>\n",
       "    <tr>\n",
       "      <th>legalsum05</th>\n",
       "      <td>subject to your compliance with these terms ni...</td>\n",
       "      <td>don t copy modify resell distribute or reverse...</td>\n",
       "    </tr>\n",
       "    <tr>\n",
       "      <th>legalsum06</th>\n",
       "      <td>for purposes of these terms a content means th...</td>\n",
       "      <td>we grant you full ownership of your user conte...</td>\n",
       "    </tr>\n",
       "    <tr>\n",
       "      <th>legalsum07</th>\n",
       "      <td>the app permits account holders to capture and...</td>\n",
       "      <td>trading s gonna be a thing. don t try to bring...</td>\n",
       "    </tr>\n",
       "    <tr>\n",
       "      <th>legalsum08</th>\n",
       "      <td>we may cancel suspend or terminate your accoun...</td>\n",
       "      <td>if you haven t played for a year you mess up o...</td>\n",
       "    </tr>\n",
       "    <tr>\n",
       "      <th>legalsum13</th>\n",
       "      <td>we may terminate your access to and use of the...</td>\n",
       "      <td>both you and we can terminate your account and...</td>\n",
       "    </tr>\n",
       "  </tbody>\n",
       "</table>\n",
       "</div>"
      ],
      "text/plain": [
       "                                                original_text  \\\n",
       "legalsum05  subject to your compliance with these terms ni...   \n",
       "legalsum06  for purposes of these terms a content means th...   \n",
       "legalsum07  the app permits account holders to capture and...   \n",
       "legalsum08  we may cancel suspend or terminate your accoun...   \n",
       "legalsum13  we may terminate your access to and use of the...   \n",
       "\n",
       "                                            reference_summary  \n",
       "legalsum05  don t copy modify resell distribute or reverse...  \n",
       "legalsum06  we grant you full ownership of your user conte...  \n",
       "legalsum07  trading s gonna be a thing. don t try to bring...  \n",
       "legalsum08  if you haven t played for a year you mess up o...  \n",
       "legalsum13  both you and we can terminate your account and...  "
      ]
     },
     "execution_count": 6,
     "metadata": {},
     "output_type": "execute_result"
    }
   ],
   "source": [
    "train_data.head()"
   ]
  },
  {
   "cell_type": "code",
   "execution_count": 7,
   "metadata": {},
   "outputs": [
    {
     "data": {
      "text/html": [
       "<div>\n",
       "<style scoped>\n",
       "    .dataframe tbody tr th:only-of-type {\n",
       "        vertical-align: middle;\n",
       "    }\n",
       "\n",
       "    .dataframe tbody tr th {\n",
       "        vertical-align: top;\n",
       "    }\n",
       "\n",
       "    .dataframe thead th {\n",
       "        text-align: right;\n",
       "    }\n",
       "</style>\n",
       "<table border=\"1\" class=\"dataframe\">\n",
       "  <thead>\n",
       "    <tr style=\"text-align: right;\">\n",
       "      <th></th>\n",
       "      <th>original_text</th>\n",
       "      <th>reference_summary</th>\n",
       "    </tr>\n",
       "  </thead>\n",
       "  <tbody>\n",
       "    <tr>\n",
       "      <th>tosdr263</th>\n",
       "      <td>the use of our services imply your approval of...</td>\n",
       "      <td>we reserve the right to modify the terms at an...</td>\n",
       "    </tr>\n",
       "    <tr>\n",
       "      <th>tosdr082</th>\n",
       "      <td>we collect content of your files and communica...</td>\n",
       "      <td>the service can read your private messages.</td>\n",
       "    </tr>\n",
       "    <tr>\n",
       "      <th>tosdr018</th>\n",
       "      <td>you do not have to give your personal or legal...</td>\n",
       "      <td>the service allows you to use pseudonyms.</td>\n",
       "    </tr>\n",
       "    <tr>\n",
       "      <th>legalsum50</th>\n",
       "      <td>you agree that you will not remove obscure or ...</td>\n",
       "      <td>keep copyright and trademark notices intact.</td>\n",
       "    </tr>\n",
       "    <tr>\n",
       "      <th>tosdr215</th>\n",
       "      <td>you may optionally add other information to yo...</td>\n",
       "      <td>the service allows you to use pseudonyms.</td>\n",
       "    </tr>\n",
       "  </tbody>\n",
       "</table>\n",
       "</div>"
      ],
      "text/plain": [
       "                                                original_text  \\\n",
       "tosdr263    the use of our services imply your approval of...   \n",
       "tosdr082    we collect content of your files and communica...   \n",
       "tosdr018    you do not have to give your personal or legal...   \n",
       "legalsum50  you agree that you will not remove obscure or ...   \n",
       "tosdr215    you may optionally add other information to yo...   \n",
       "\n",
       "                                            reference_summary  \n",
       "tosdr263    we reserve the right to modify the terms at an...  \n",
       "tosdr082          the service can read your private messages.  \n",
       "tosdr018            the service allows you to use pseudonyms.  \n",
       "legalsum50       keep copyright and trademark notices intact.  \n",
       "tosdr215            the service allows you to use pseudonyms.  "
      ]
     },
     "execution_count": 7,
     "metadata": {},
     "output_type": "execute_result"
    }
   ],
   "source": [
    "test_data.head()"
   ]
  },
  {
   "cell_type": "markdown",
   "metadata": {
    "pycharm": {
     "name": "#%% md\n"
    }
   },
   "source": [
    "<a id=\"models\"></a>\n",
    "## Foundation Models on Watsonx"
   ]
  },
  {
   "cell_type": "markdown",
   "metadata": {
    "pycharm": {
     "name": "#%% md\n"
    }
   },
   "source": [
    "You need to specify `model_id` that will be used for inferencing."
   ]
  },
  {
   "cell_type": "markdown",
   "metadata": {},
   "source": [
    "**Action:** Use `FLAN_UL2` model."
   ]
  },
  {
   "cell_type": "code",
   "execution_count": 8,
   "metadata": {},
   "outputs": [],
   "source": [
    "from ibm_watson_machine_learning.foundation_models.utils.enums import ModelTypes"
   ]
  },
  {
   "cell_type": "code",
   "execution_count": 9,
   "metadata": {
    "pycharm": {
     "name": "#%%\n"
    }
   },
   "outputs": [],
   "source": [
    "model_id = ModelTypes.FLAN_UL2"
   ]
  },
  {
   "cell_type": "markdown",
   "metadata": {
    "pycharm": {
     "name": "#%% md\n"
    }
   },
   "source": [
    "<a id=\"predict\"></a>\n",
    "##  Generate document summary"
   ]
  },
  {
   "cell_type": "markdown",
   "metadata": {
    "pycharm": {
     "name": "#%% md\n"
    }
   },
   "source": [
    "Define instructions for the model.\n",
    "\n",
    "**Note:** Please **start with using [watsonx.ai Prompt Lab](https://dataplatform.cloud.ibm.com/wx/home?context=wx)** to find better prompts that provides you the best result on a small subset training records (under `train_data` variable). Make sure to not run an inference of all of `train_data`, as it'll take a long time to get the results. To get a sample from `train_data`, you can use e.g.`train_data.head(n=10)` to get first 10 records, or `train_data.sample(n=10)` to get random 10 records. Only once you have identified the best performing prompt, update this notebook to use the prompt and compute the metrics on the test data.\n",
    "\n",
    "**Action:** Please edit the below cell and add your own prompt here. In the below prompt, we have the instruction (first sentence) and one example included in the prompt.  If you want to change the prompt or add your own examples or more examples, please change the below prompt accordingly."
   ]
  },
  {
   "cell_type": "code",
   "execution_count": 10,
   "metadata": {
    "pycharm": {
     "name": "#%%\n"
    }
   },
   "outputs": [],
   "source": [
    "instruction =  f\"\"\"\n",
    "Generate a brief summary of this document:\\n\n",
    "\n",
    "document: the use of our services imply your approval of the present terms. we reserve the right to modify the terms at any time so they can fit the evolutions of the services of qwant and or their operation. you will be informed by email and or by any other appropriate means on the affected services of all substantial changes to the terms prior to their entry into force.\\n\n",
    "summary: we reserve the right to modify the terms at any time so they can fit the evolutions of the services of qwant and or their operation. you will be informed by email and or by any other appropriate means on the affected services of all substantial changes to the terms prior to their entry into force.\\n\\n\n",
    "\n",
    "document: we collect content of your files and communications when necessary to provide you with the services you use.\\n\n",
    "summary: the service can read your private messages.\\n\\n\n",
    "\n",
    "document: you do not have to give your personal or legal name to create an npm account. you can use a pseudonym instead.\\n\n",
    "summary: the service allows you to use pseudonyms.\\n\\n\n",
    "\n",
    "document: you agree that you will not remove obscure or alter any proprietary rights notices including copyright and trademark notices that may be affixed to or contained within the sdk.\\n\n",
    "summary: keep copyright and trademark notices intact.\\n\\n\n",
    "\n",
    "document: you may optionally add other information to your account such as a profile name and profile picture. this information is end to end encrypted.\\n\n",
    "summary: the service allows you to use pseudonyms.\\n\\n\n",
    "\n",
    "document: we also allow specific partners to collect information from your browser or device for advertising and measurement purposes using their own cookies or similar technologies.\\n\n",
    "summary: the service may use tracking pixels web beacons browser fingerprinting and or device fingerprinting on users.\\n\\n\n",
    "\n",
    "document: you are not permitted to attempt to overload flood spam mailbomb or crash the website or servers.\\n\n",
    "summary: this service prohibits users sending chain letters junk mail spam or any unsolicited messages.\\n\\n\n",
    "\n",
    "document: indemnity you agree to indemnify and hold discogs and its subsidiaries affiliates officers agents co branders or other partners and employees harmless from any alleged claim or demand including reasonable attorney fees made by any third party due to or arising out of your use of the service your connection to the service your violation of the tos or your violation of any rights of another whether you are a registered user or not. you are solely responsible for your actions when using the service including but not limited to costs incurred for internet access.\\n\n",
    "summary: you agree to defend indemnify and hold the service harmless in case of a claim related to your use of the service.\\n\\n\n",
    "\n",
    "document: search encrypt uses cookies to determine the effectiveness of our own marketing campaigns. because we don t track any personally identifiable information we can t do more than determine that a specific user searched for whatever search terms they searched for. we know nothing about that particular user and we don t know anything identifiable about the user. using cookies also allows us to encrypt your search queries on the browser to help hide the history of what you searched for on the machine.\\n\n",
    "summary: this service requires first party cookies which are cookies that only belong to the domain of the service and not a third party.\\n\\n\n",
    "\n",
    "document: choice you may decline participation in any activity that asks for information i e surveys or emails. your choice to not participate will have no effect on your ability to access information on the city s web sites.\\n\n",
    "summary: you can choose with whom you share content.\\n\\n\n",
    "\n",
    "document: we do not use cookies or any other tracking technology.\\n\n",
    "summary: this service does not track you.\\n\\n\n",
    "\"\"\""
   ]
  },
  {
   "cell_type": "code",
   "execution_count": 11,
   "metadata": {},
   "outputs": [
    {
     "name": "stdout",
     "output_type": "stream",
     "text": [
      "\n",
      "Generate a brief summary of this document:\n",
      "\n",
      "\n",
      "document: the use of our services imply your approval of the present terms. we reserve the right to modify the terms at any time so they can fit the evolutions of the services of qwant and or their operation. you will be informed by email and or by any other appropriate means on the affected services of all substantial changes to the terms prior to their entry into force.\n",
      "\n",
      "summary: we reserve the right to modify the terms at any time so they can fit the evolutions of the services of qwant and or their operation. you will be informed by email and or by any other appropriate means on the affected services of all substantial changes to the terms prior to their entry into force.\n",
      "\n",
      "\n",
      "\n",
      "document: we collect content of your files and communications when necessary to provide you with the services you use.\n",
      "\n",
      "summary: the service can read your private messages.\n",
      "\n",
      "\n",
      "\n",
      "document: you do not have to give your personal or legal name to create an npm account. you can use a pseudonym instead.\n",
      "\n",
      "summary: the service allows you to use pseudonyms.\n",
      "\n",
      "\n",
      "\n",
      "document: you agree that you will not remove obscure or alter any proprietary rights notices including copyright and trademark notices that may be affixed to or contained within the sdk.\n",
      "\n",
      "summary: keep copyright and trademark notices intact.\n",
      "\n",
      "\n",
      "\n",
      "document: you may optionally add other information to your account such as a profile name and profile picture. this information is end to end encrypted.\n",
      "\n",
      "summary: the service allows you to use pseudonyms.\n",
      "\n",
      "\n",
      "\n",
      "document: we also allow specific partners to collect information from your browser or device for advertising and measurement purposes using their own cookies or similar technologies.\n",
      "\n",
      "summary: the service may use tracking pixels web beacons browser fingerprinting and or device fingerprinting on users.\n",
      "\n",
      "\n",
      "\n",
      "document: you are not permitted to attempt to overload flood spam mailbomb or crash the website or servers.\n",
      "\n",
      "summary: this service prohibits users sending chain letters junk mail spam or any unsolicited messages.\n",
      "\n",
      "\n",
      "\n",
      "document: indemnity you agree to indemnify and hold discogs and its subsidiaries affiliates officers agents co branders or other partners and employees harmless from any alleged claim or demand including reasonable attorney fees made by any third party due to or arising out of your use of the service your connection to the service your violation of the tos or your violation of any rights of another whether you are a registered user or not. you are solely responsible for your actions when using the service including but not limited to costs incurred for internet access.\n",
      "\n",
      "summary: you agree to defend indemnify and hold the service harmless in case of a claim related to your use of the service.\n",
      "\n",
      "\n",
      "\n",
      "document: search encrypt uses cookies to determine the effectiveness of our own marketing campaigns. because we don t track any personally identifiable information we can t do more than determine that a specific user searched for whatever search terms they searched for. we know nothing about that particular user and we don t know anything identifiable about the user. using cookies also allows us to encrypt your search queries on the browser to help hide the history of what you searched for on the machine.\n",
      "\n",
      "summary: this service requires first party cookies which are cookies that only belong to the domain of the service and not a third party.\n",
      "\n",
      "\n",
      "\n",
      "document: choice you may decline participation in any activity that asks for information i e surveys or emails. your choice to not participate will have no effect on your ability to access information on the city s web sites.\n",
      "\n",
      "summary: you can choose with whom you share content.\n",
      "\n",
      "\n",
      "\n",
      "document: we do not use cookies or any other tracking technology.\n",
      "\n",
      "summary: this service does not track you.\n",
      "\n",
      "\n",
      "\n"
     ]
    }
   ],
   "source": [
    "print(instruction)"
   ]
  },
  {
   "cell_type": "markdown",
   "metadata": {
    "pycharm": {
     "name": "#%% md\n"
    }
   },
   "source": [
    "### Defining the model parameters\n",
    "We need to provide a set of model parameters that will influence the result:"
   ]
  },
  {
   "cell_type": "code",
   "execution_count": 12,
   "metadata": {
    "pycharm": {
     "name": "#%%\n"
    }
   },
   "outputs": [],
   "source": [
    "from ibm_watson_machine_learning.metanames import GenTextParamsMetaNames as GenParams\n",
    "from ibm_watson_machine_learning.foundation_models.utils.enums import DecodingMethods\n",
    "\n",
    "parameters = {\n",
    "    GenParams.MAX_NEW_TOKENS:50,\n",
    "    GenParams.MIN_NEW_TOKENS:20,\n",
    "    GenParams.DECODING_METHOD: DecodingMethods.GREEDY\n",
    "}"
   ]
  },
  {
   "cell_type": "markdown",
   "metadata": {
    "pycharm": {
     "name": "#%% md\n"
    }
   },
   "source": [
    "Initialize the `Model` class."
   ]
  },
  {
   "cell_type": "code",
   "execution_count": 13,
   "metadata": {
    "pycharm": {
     "name": "#%%\n"
    }
   },
   "outputs": [],
   "source": [
    "from ibm_watson_machine_learning.foundation_models import Model\n",
    "\n",
    "model = Model(\n",
    "    model_id=model_id,\n",
    "    params=parameters,\n",
    "    credentials=credentials,\n",
    "    project_id=project_id)"
   ]
  },
  {
   "cell_type": "markdown",
   "metadata": {
    "pycharm": {
     "name": "#%% md\n"
    }
   },
   "source": [
    "Get the docs summaries.\n",
    "\n",
    "**Note:** Execution of this cell could take several minutes."
   ]
  },
  {
   "cell_type": "code",
   "execution_count": null,
   "metadata": {
    "pycharm": {
     "name": "#%%\n"
    }
   },
   "outputs": [],
   "source": [
    "results = []\n",
    "documents = list(test_data.original_text)\n",
    "\n",
    "for input_text in documents:\n",
    "    results.append(model.generate_text(prompt=\" \".join([instruction, input_text])))"
   ]
  },
  {
   "cell_type": "markdown",
   "metadata": {
    "collapsed": false,
    "pycharm": {
     "name": "#%% md\n"
    }
   },
   "source": [
    "<a id=\"score\"></a>\n",
    "## Calculate rougeL metric"
   ]
  },
  {
   "cell_type": "markdown",
   "metadata": {},
   "source": [
    "In this sample notebook `rouge_score` module was used for rougeL calculation."
   ]
  },
  {
   "cell_type": "markdown",
   "metadata": {},
   "source": [
    "#### Rouge Metric"
   ]
  },
  {
   "cell_type": "markdown",
   "metadata": {},
   "source": [
    "**Note:** The Rouge (Recall-Oriented Understudy for Gisting Evaluation) metric is a set of evaluation measures used in natural language processing (NLP) and specifically in text summarization and machine translation tasks. The Rouge metrics are designed to assess the quality of generated summaries or translations by comparing them to one or more reference texts.\n",
    "\n",
    "The main idea behind Rouge is to measure the overlap between the generated summary (or translation) and the reference text(s) in terms of n-grams or longest common subsequences. By calculating recall, precision, and F1 scores based on these overlapping units, Rouge provides a quantitative assessment of the summary's content overlap with the reference(s).\n",
    "\n",
    "Rouge-1 focuses on individual word overlap, Rouge-2 considers pairs of consecutive words, and Rouge-L takes into account the ordering of words and phrases. These metrics provide different perspectives on the similarity between two texts and can be used to evaluate different aspects of summarization or text generation models."
   ]
  },
  {
   "cell_type": "code",
   "execution_count": null,
   "metadata": {},
   "outputs": [],
   "source": [
    "from rouge_score import rouge_scorer\n",
    "from collections import defaultdict\n",
    "import numpy as np\n",
    "\n",
    "def get_rouge_score(predictions, references):\n",
    "    scorer = rouge_scorer.RougeScorer(['rouge1', 'rouge2', 'rougeL', 'rougeLsum'])\n",
    "    aggregate_score = defaultdict(list)\n",
    "\n",
    "    for result, ref in zip(predictions, references):\n",
    "        for key, val in scorer.score(result, ref).items():\n",
    "            aggregate_score[key].append(val.fmeasure)\n",
    "\n",
    "    scores = {}\n",
    "    for key in aggregate_score:\n",
    "        scores[key] = np.mean(aggregate_score[key])\n",
    "    \n",
    "    return scores"
   ]
  },
  {
   "cell_type": "code",
   "execution_count": null,
   "metadata": {},
   "outputs": [
    {
     "name": "stdout",
     "output_type": "stream",
     "text": [
      "{'rouge1': 0.2928074208992393, 'rouge2': 0.1984291957687859, 'rougeL': 0.27474111760503406, 'rougeLsum': 0.27474111760503406}\n"
     ]
    }
   ],
   "source": [
    "print(get_rouge_score(results, test_data.reference_summary.values))"
   ]
  },
  {
   "cell_type": "markdown",
   "metadata": {
    "collapsed": false,
    "pycharm": {
     "name": "#%% md\n"
    }
   },
   "source": [
    "---"
   ]
  },
  {
   "cell_type": "markdown",
   "metadata": {
    "pycharm": {
     "name": "#%% md\n"
    }
   },
   "source": [
    "Copyright © 2023 IBM. This notebook and its source code are released under the terms of the MIT License."
   ]
  }
 ],
 "metadata": {
  "kernelspec": {
   "display_name": "Python 3 (ipykernel)",
   "language": "python",
   "name": "python3"
  },
  "language_info": {
   "codemirror_mode": {
    "name": "ipython",
    "version": 3
   },
   "file_extension": ".py",
   "mimetype": "text/x-python",
   "name": "python",
   "nbconvert_exporter": "python",
   "pygments_lexer": "ipython3",
   "version": "3.10.9"
  }
 },
 "nbformat": 4,
 "nbformat_minor": 4
}
